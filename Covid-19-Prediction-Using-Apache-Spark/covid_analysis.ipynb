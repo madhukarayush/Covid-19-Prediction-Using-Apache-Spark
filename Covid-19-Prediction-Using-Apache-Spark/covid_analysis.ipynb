{
  "nbformat": 4,
  "nbformat_minor": 0,
  "metadata": {
    "colab": {
      "name": "covid_analysis.ipynb",
      "provenance": [],
      "authorship_tag": "ABX9TyPi//S7XqGaA5n/99KZwXz6",
      "include_colab_link": true
    },
    "kernelspec": {
      "name": "python3",
      "display_name": "Python 3"
    },
    "language_info": {
      "name": "python"
    }
  },
  "cells": [
    {
      "cell_type": "markdown",
      "metadata": {
        "id": "view-in-github",
        "colab_type": "text"
      },
      "source": [
        "<a href=\"https://colab.research.google.com/github/madhukarayush/Covid-19-Prediction-Using-Apache-Spark/blob/main/Covid-19-Prediction-Using-Apache-Spark/covid_analysis.ipynb\" target=\"_parent\"><img src=\"https://colab.research.google.com/assets/colab-badge.svg\" alt=\"Open In Colab\"/></a>"
      ]
    },
    {
      "cell_type": "code",
      "metadata": {
        "id": "Z5fITQyMoE-b",
        "colab": {
          "base_uri": "https://localhost:8080/"
        },
        "outputId": "57bda977-fa0e-4f8c-d774-7036f7d1805b"
      },
      "source": [
        "!pip install pyspark"
      ],
      "execution_count": null,
      "outputs": [
        {
          "output_type": "stream",
          "name": "stdout",
          "text": [
            "Collecting pyspark\n",
            "  Downloading pyspark-3.2.1.tar.gz (281.4 MB)\n",
            "\u001b[K     |████████████████████████████████| 281.4 MB 33 kB/s \n",
            "\u001b[?25hCollecting py4j==0.10.9.3\n",
            "  Downloading py4j-0.10.9.3-py2.py3-none-any.whl (198 kB)\n",
            "\u001b[K     |████████████████████████████████| 198 kB 51.9 MB/s \n",
            "\u001b[?25hBuilding wheels for collected packages: pyspark\n",
            "  Building wheel for pyspark (setup.py) ... \u001b[?25l\u001b[?25hdone\n",
            "  Created wheel for pyspark: filename=pyspark-3.2.1-py2.py3-none-any.whl size=281853642 sha256=ac6e8fb80ccac10d38438ecffe6c0144792085451e23f8803905cc9eca3260dd\n",
            "  Stored in directory: /root/.cache/pip/wheels/9f/f5/07/7cd8017084dce4e93e84e92efd1e1d5334db05f2e83bcef74f\n",
            "Successfully built pyspark\n",
            "Installing collected packages: py4j, pyspark\n",
            "Successfully installed py4j-0.10.9.3 pyspark-3.2.1\n"
          ]
        }
      ]
    },
    {
      "cell_type": "code",
      "source": [
        "file = 'owid-covid-data.csv'"
      ],
      "metadata": {
        "id": "UqbJ2vfNWTBg"
      },
      "execution_count": null,
      "outputs": []
    },
    {
      "cell_type": "code",
      "source": [
        "import pyspark\n",
        "from pyspark.sql import SparkSession, SQLContext\n",
        "\n",
        "spark = SparkSession.builder.appName(\"Covid Data Mining\").config('spark.sql.debug.maxToStringFields', 2000).getOrCreate()\n",
        "full_df = spark.read.csv(file, header=True, inferSchema=True)"
      ],
      "metadata": {
        "id": "zJX4lgM5WTEW"
      },
      "execution_count": null,
      "outputs": []
    },
    {
      "cell_type": "code",
      "source": [
        "print(f\"The total number of samples is {full_df.count()}, with each sample corresponding to {len(full_df.columns)} features.\")"
      ],
      "metadata": {
        "colab": {
          "base_uri": "https://localhost:8080/"
        },
        "id": "OPMhGUDQWTHP",
        "outputId": "3b1d0db5-9e72-44d2-eb7a-aba4f6fccc3d"
      },
      "execution_count": null,
      "outputs": [
        {
          "output_type": "stream",
          "name": "stdout",
          "text": [
            "The total number of samples is 33361, with each sample corresponding to 67 features.\n"
          ]
        }
      ]
    },
    {
      "cell_type": "code",
      "source": [
        "full_df.printSchema()"
      ],
      "metadata": {
        "colab": {
          "base_uri": "https://localhost:8080/"
        },
        "id": "OHJ-eJiCWTKG",
        "outputId": "2cf3505b-96b5-49ea-fe77-e38a638ee28e"
      },
      "execution_count": null,
      "outputs": [
        {
          "output_type": "stream",
          "name": "stdout",
          "text": [
            "root\n",
            " |-- iso_code: string (nullable = true)\n",
            " |-- continent: string (nullable = true)\n",
            " |-- location: string (nullable = true)\n",
            " |-- date: string (nullable = true)\n",
            " |-- total_cases: double (nullable = true)\n",
            " |-- new_cases: double (nullable = true)\n",
            " |-- new_cases_smoothed: double (nullable = true)\n",
            " |-- total_deaths: double (nullable = true)\n",
            " |-- new_deaths: double (nullable = true)\n",
            " |-- new_deaths_smoothed: double (nullable = true)\n",
            " |-- total_cases_per_million: double (nullable = true)\n",
            " |-- new_cases_per_million: double (nullable = true)\n",
            " |-- new_cases_smoothed_per_million: double (nullable = true)\n",
            " |-- total_deaths_per_million: double (nullable = true)\n",
            " |-- new_deaths_per_million: double (nullable = true)\n",
            " |-- new_deaths_smoothed_per_million: double (nullable = true)\n",
            " |-- reproduction_rate: double (nullable = true)\n",
            " |-- icu_patients: double (nullable = true)\n",
            " |-- icu_patients_per_million: double (nullable = true)\n",
            " |-- hosp_patients: double (nullable = true)\n",
            " |-- hosp_patients_per_million: double (nullable = true)\n",
            " |-- weekly_icu_admissions: double (nullable = true)\n",
            " |-- weekly_icu_admissions_per_million: double (nullable = true)\n",
            " |-- weekly_hosp_admissions: double (nullable = true)\n",
            " |-- weekly_hosp_admissions_per_million: double (nullable = true)\n",
            " |-- total_tests: double (nullable = true)\n",
            " |-- new_tests: double (nullable = true)\n",
            " |-- total_tests_per_thousand: double (nullable = true)\n",
            " |-- new_tests_per_thousand: double (nullable = true)\n",
            " |-- new_tests_smoothed: double (nullable = true)\n",
            " |-- new_tests_smoothed_per_thousand: double (nullable = true)\n",
            " |-- positive_rate: double (nullable = true)\n",
            " |-- tests_per_case: double (nullable = true)\n",
            " |-- tests_units: string (nullable = true)\n",
            " |-- total_vaccinations: double (nullable = true)\n",
            " |-- people_vaccinated: double (nullable = true)\n",
            " |-- people_fully_vaccinated: double (nullable = true)\n",
            " |-- total_boosters: double (nullable = true)\n",
            " |-- new_vaccinations: double (nullable = true)\n",
            " |-- new_vaccinations_smoothed: double (nullable = true)\n",
            " |-- total_vaccinations_per_hundred: double (nullable = true)\n",
            " |-- people_vaccinated_per_hundred: double (nullable = true)\n",
            " |-- people_fully_vaccinated_per_hundred: double (nullable = true)\n",
            " |-- total_boosters_per_hundred: double (nullable = true)\n",
            " |-- new_vaccinations_smoothed_per_million: double (nullable = true)\n",
            " |-- new_people_vaccinated_smoothed: double (nullable = true)\n",
            " |-- new_people_vaccinated_smoothed_per_hundred: double (nullable = true)\n",
            " |-- stringency_index: double (nullable = true)\n",
            " |-- population: double (nullable = true)\n",
            " |-- population_density: double (nullable = true)\n",
            " |-- median_age: double (nullable = true)\n",
            " |-- aged_65_older: double (nullable = true)\n",
            " |-- aged_70_older: double (nullable = true)\n",
            " |-- gdp_per_capita: double (nullable = true)\n",
            " |-- extreme_poverty: double (nullable = true)\n",
            " |-- cardiovasc_death_rate: double (nullable = true)\n",
            " |-- diabetes_prevalence: double (nullable = true)\n",
            " |-- female_smokers: double (nullable = true)\n",
            " |-- male_smokers: double (nullable = true)\n",
            " |-- handwashing_facilities: double (nullable = true)\n",
            " |-- hospital_beds_per_thousand: double (nullable = true)\n",
            " |-- life_expectancy: double (nullable = true)\n",
            " |-- human_development_index: double (nullable = true)\n",
            " |-- excess_mortality_cumulative_absolute: double (nullable = true)\n",
            " |-- excess_mortality_cumulative: double (nullable = true)\n",
            " |-- excess_mortality: double (nullable = true)\n",
            " |-- excess_mortality_cumulative_per_million: double (nullable = true)\n",
            "\n"
          ]
        }
      ]
    },
    {
      "cell_type": "code",
      "source": [
        "full_df.select(\"iso_code\",\"location\",\"continent\",\"date\",\"tests_units\").show(5)"
      ],
      "metadata": {
        "colab": {
          "base_uri": "https://localhost:8080/"
        },
        "id": "bNAJbRLIWTMw",
        "outputId": "96290dd2-c296-4e56-d7da-35d67728f80e"
      },
      "execution_count": null,
      "outputs": [
        {
          "output_type": "stream",
          "name": "stdout",
          "text": [
            "+--------+-----------+---------+----------+-----------+\n",
            "|iso_code|   location|continent|      date|tests_units|\n",
            "+--------+-----------+---------+----------+-----------+\n",
            "|     AFG|Afghanistan|     Asia|2020-02-24|       null|\n",
            "|     AFG|Afghanistan|     Asia|2020-02-25|       null|\n",
            "|     AFG|Afghanistan|     Asia|2020-02-26|       null|\n",
            "|     AFG|Afghanistan|     Asia|2020-02-27|       null|\n",
            "|     AFG|Afghanistan|     Asia|2020-02-28|       null|\n",
            "+--------+-----------+---------+----------+-----------+\n",
            "only showing top 5 rows\n",
            "\n"
          ]
        }
      ]
    },
    {
      "cell_type": "code",
      "source": [
        "from pyspark.sql import functions as F\n",
        "\n",
        "miss_vals = full_df.select([F.count(F.when(F.isnull(c), c)).alias(c) for c in full_df.columns]).collect()[0].asDict()\n",
        "miss_vals = dict(sorted(miss_vals.items(), reverse=True, key=lambda item: item[1]))\n",
        "\n",
        "import pandas as pd\n",
        "\n",
        "pd.DataFrame.from_records([miss_vals])"
      ],
      "metadata": {
        "colab": {
          "base_uri": "https://localhost:8080/",
          "height": 174
        },
        "id": "SJ3dOcuaWTPV",
        "outputId": "802f77ea-c2b3-43cc-ccef-96462beb2a54"
      },
      "execution_count": null,
      "outputs": [
        {
          "output_type": "execute_result",
          "data": {
            "text/plain": [
              "   weekly_icu_admissions  weekly_icu_admissions_per_million  \\\n",
              "0                  32646                              32646   \n",
              "\n",
              "   excess_mortality_cumulative_absolute  excess_mortality_cumulative  \\\n",
              "0                                 32477                        32477   \n",
              "\n",
              "   excess_mortality  excess_mortality_cumulative_per_million  \\\n",
              "0             32477                                    32477   \n",
              "\n",
              "   weekly_hosp_admissions  weekly_hosp_admissions_per_million  total_boosters  \\\n",
              "0                   31902                               31902           30237   \n",
              "\n",
              "   total_boosters_per_hundred  ...  new_cases_smoothed  \\\n",
              "0                       30237  ...                 468   \n",
              "\n",
              "   new_cases_smoothed_per_million  new_cases  new_cases_per_million  \\\n",
              "0                             468        132                    132   \n",
              "\n",
              "   total_cases  total_cases_per_million  iso_code  location  date  population  \n",
              "0          103                      103         0         0     0           0  \n",
              "\n",
              "[1 rows x 67 columns]"
            ],
            "text/html": [
              "\n",
              "  <div id=\"df-e2c652b5-ed8b-47e4-af8f-31c27924b0b1\">\n",
              "    <div class=\"colab-df-container\">\n",
              "      <div>\n",
              "<style scoped>\n",
              "    .dataframe tbody tr th:only-of-type {\n",
              "        vertical-align: middle;\n",
              "    }\n",
              "\n",
              "    .dataframe tbody tr th {\n",
              "        vertical-align: top;\n",
              "    }\n",
              "\n",
              "    .dataframe thead th {\n",
              "        text-align: right;\n",
              "    }\n",
              "</style>\n",
              "<table border=\"1\" class=\"dataframe\">\n",
              "  <thead>\n",
              "    <tr style=\"text-align: right;\">\n",
              "      <th></th>\n",
              "      <th>weekly_icu_admissions</th>\n",
              "      <th>weekly_icu_admissions_per_million</th>\n",
              "      <th>excess_mortality_cumulative_absolute</th>\n",
              "      <th>excess_mortality_cumulative</th>\n",
              "      <th>excess_mortality</th>\n",
              "      <th>excess_mortality_cumulative_per_million</th>\n",
              "      <th>weekly_hosp_admissions</th>\n",
              "      <th>weekly_hosp_admissions_per_million</th>\n",
              "      <th>total_boosters</th>\n",
              "      <th>total_boosters_per_hundred</th>\n",
              "      <th>...</th>\n",
              "      <th>new_cases_smoothed</th>\n",
              "      <th>new_cases_smoothed_per_million</th>\n",
              "      <th>new_cases</th>\n",
              "      <th>new_cases_per_million</th>\n",
              "      <th>total_cases</th>\n",
              "      <th>total_cases_per_million</th>\n",
              "      <th>iso_code</th>\n",
              "      <th>location</th>\n",
              "      <th>date</th>\n",
              "      <th>population</th>\n",
              "    </tr>\n",
              "  </thead>\n",
              "  <tbody>\n",
              "    <tr>\n",
              "      <th>0</th>\n",
              "      <td>32646</td>\n",
              "      <td>32646</td>\n",
              "      <td>32477</td>\n",
              "      <td>32477</td>\n",
              "      <td>32477</td>\n",
              "      <td>32477</td>\n",
              "      <td>31902</td>\n",
              "      <td>31902</td>\n",
              "      <td>30237</td>\n",
              "      <td>30237</td>\n",
              "      <td>...</td>\n",
              "      <td>468</td>\n",
              "      <td>468</td>\n",
              "      <td>132</td>\n",
              "      <td>132</td>\n",
              "      <td>103</td>\n",
              "      <td>103</td>\n",
              "      <td>0</td>\n",
              "      <td>0</td>\n",
              "      <td>0</td>\n",
              "      <td>0</td>\n",
              "    </tr>\n",
              "  </tbody>\n",
              "</table>\n",
              "<p>1 rows × 67 columns</p>\n",
              "</div>\n",
              "      <button class=\"colab-df-convert\" onclick=\"convertToInteractive('df-e2c652b5-ed8b-47e4-af8f-31c27924b0b1')\"\n",
              "              title=\"Convert this dataframe to an interactive table.\"\n",
              "              style=\"display:none;\">\n",
              "        \n",
              "  <svg xmlns=\"http://www.w3.org/2000/svg\" height=\"24px\"viewBox=\"0 0 24 24\"\n",
              "       width=\"24px\">\n",
              "    <path d=\"M0 0h24v24H0V0z\" fill=\"none\"/>\n",
              "    <path d=\"M18.56 5.44l.94 2.06.94-2.06 2.06-.94-2.06-.94-.94-2.06-.94 2.06-2.06.94zm-11 1L8.5 8.5l.94-2.06 2.06-.94-2.06-.94L8.5 2.5l-.94 2.06-2.06.94zm10 10l.94 2.06.94-2.06 2.06-.94-2.06-.94-.94-2.06-.94 2.06-2.06.94z\"/><path d=\"M17.41 7.96l-1.37-1.37c-.4-.4-.92-.59-1.43-.59-.52 0-1.04.2-1.43.59L10.3 9.45l-7.72 7.72c-.78.78-.78 2.05 0 2.83L4 21.41c.39.39.9.59 1.41.59.51 0 1.02-.2 1.41-.59l7.78-7.78 2.81-2.81c.8-.78.8-2.07 0-2.86zM5.41 20L4 18.59l7.72-7.72 1.47 1.35L5.41 20z\"/>\n",
              "  </svg>\n",
              "      </button>\n",
              "      \n",
              "  <style>\n",
              "    .colab-df-container {\n",
              "      display:flex;\n",
              "      flex-wrap:wrap;\n",
              "      gap: 12px;\n",
              "    }\n",
              "\n",
              "    .colab-df-convert {\n",
              "      background-color: #E8F0FE;\n",
              "      border: none;\n",
              "      border-radius: 50%;\n",
              "      cursor: pointer;\n",
              "      display: none;\n",
              "      fill: #1967D2;\n",
              "      height: 32px;\n",
              "      padding: 0 0 0 0;\n",
              "      width: 32px;\n",
              "    }\n",
              "\n",
              "    .colab-df-convert:hover {\n",
              "      background-color: #E2EBFA;\n",
              "      box-shadow: 0px 1px 2px rgba(60, 64, 67, 0.3), 0px 1px 3px 1px rgba(60, 64, 67, 0.15);\n",
              "      fill: #174EA6;\n",
              "    }\n",
              "\n",
              "    [theme=dark] .colab-df-convert {\n",
              "      background-color: #3B4455;\n",
              "      fill: #D2E3FC;\n",
              "    }\n",
              "\n",
              "    [theme=dark] .colab-df-convert:hover {\n",
              "      background-color: #434B5C;\n",
              "      box-shadow: 0px 1px 3px 1px rgba(0, 0, 0, 0.15);\n",
              "      filter: drop-shadow(0px 1px 2px rgba(0, 0, 0, 0.3));\n",
              "      fill: #FFFFFF;\n",
              "    }\n",
              "  </style>\n",
              "\n",
              "      <script>\n",
              "        const buttonEl =\n",
              "          document.querySelector('#df-e2c652b5-ed8b-47e4-af8f-31c27924b0b1 button.colab-df-convert');\n",
              "        buttonEl.style.display =\n",
              "          google.colab.kernel.accessAllowed ? 'block' : 'none';\n",
              "\n",
              "        async function convertToInteractive(key) {\n",
              "          const element = document.querySelector('#df-e2c652b5-ed8b-47e4-af8f-31c27924b0b1');\n",
              "          const dataTable =\n",
              "            await google.colab.kernel.invokeFunction('convertToInteractive',\n",
              "                                                     [key], {});\n",
              "          if (!dataTable) return;\n",
              "\n",
              "          const docLinkHtml = 'Like what you see? Visit the ' +\n",
              "            '<a target=\"_blank\" href=https://colab.research.google.com/notebooks/data_table.ipynb>data table notebook</a>'\n",
              "            + ' to learn more about interactive tables.';\n",
              "          element.innerHTML = '';\n",
              "          dataTable['output_type'] = 'display_data';\n",
              "          await google.colab.output.renderOutput(dataTable, element);\n",
              "          const docLink = document.createElement('div');\n",
              "          docLink.innerHTML = docLinkHtml;\n",
              "          element.appendChild(docLink);\n",
              "        }\n",
              "      </script>\n",
              "    </div>\n",
              "  </div>\n",
              "  "
            ]
          },
          "metadata": {},
          "execution_count": 10
        }
      ]
    },
    {
      "cell_type": "code",
      "source": [
        "full_df = full_df.withColumn('date',F.to_date(F.unix_timestamp(F.col('date'), 'yyyy-MM-dd').cast(\"timestamp\")))"
      ],
      "metadata": {
        "id": "5pQvqyTdWTR8"
      },
      "execution_count": null,
      "outputs": []
    },
    {
      "cell_type": "code",
      "source": [
        "dates = (\"2021-01-01\", \"2021-02-28\")\n",
        "df = full_df.where(F.col('date').between(*dates))"
      ],
      "metadata": {
        "id": "wD60ttxAWTUz"
      },
      "execution_count": null,
      "outputs": []
    },
    {
      "cell_type": "code",
      "source": [
        "print(f\"The total number of samples is {df.count()}, with each sample corresponding to {len(df.columns)} features.\")\n",
        "\n",
        "miss_vals = df.select([F.count(F.when(F.isnull(c), c)).alias(c) for c in df.columns]).collect()[0].asDict()\n",
        "miss_vals = dict(sorted(miss_vals.items(), reverse=True, key=lambda item: item[1]))\n",
        "\n",
        "pd.DataFrame.from_records([miss_vals])"
      ],
      "metadata": {
        "colab": {
          "base_uri": "https://localhost:8080/",
          "height": 191
        },
        "id": "1Bgb1tJ7WTXX",
        "outputId": "6b0675d9-e5c1-4a7e-9515-224500d8fb01"
      },
      "execution_count": null,
      "outputs": [
        {
          "output_type": "stream",
          "name": "stdout",
          "text": [
            "The total number of samples is 2596, with each sample corresponding to 67 features.\n"
          ]
        },
        {
          "output_type": "execute_result",
          "data": {
            "text/plain": [
              "   weekly_icu_admissions  weekly_icu_admissions_per_million  \\\n",
              "0                   2537                               2537   \n",
              "\n",
              "   excess_mortality_cumulative_absolute  excess_mortality_cumulative  \\\n",
              "0                                  2524                         2524   \n",
              "\n",
              "   excess_mortality  excess_mortality_cumulative_per_million  total_boosters  \\\n",
              "0              2524                                     2524            2514   \n",
              "\n",
              "   total_boosters_per_hundred  weekly_hosp_admissions  \\\n",
              "0                        2514                    2478   \n",
              "\n",
              "   weekly_hosp_admissions_per_million  ...  iso_code  location  date  \\\n",
              "0                                2478  ...         0         0     0   \n",
              "\n",
              "   total_cases  new_cases  new_cases_smoothed  total_cases_per_million  \\\n",
              "0            0          0                   0                        0   \n",
              "\n",
              "   new_cases_per_million  new_cases_smoothed_per_million  population  \n",
              "0                      0                               0           0  \n",
              "\n",
              "[1 rows x 67 columns]"
            ],
            "text/html": [
              "\n",
              "  <div id=\"df-5955d938-240f-497e-83df-de663602c12a\">\n",
              "    <div class=\"colab-df-container\">\n",
              "      <div>\n",
              "<style scoped>\n",
              "    .dataframe tbody tr th:only-of-type {\n",
              "        vertical-align: middle;\n",
              "    }\n",
              "\n",
              "    .dataframe tbody tr th {\n",
              "        vertical-align: top;\n",
              "    }\n",
              "\n",
              "    .dataframe thead th {\n",
              "        text-align: right;\n",
              "    }\n",
              "</style>\n",
              "<table border=\"1\" class=\"dataframe\">\n",
              "  <thead>\n",
              "    <tr style=\"text-align: right;\">\n",
              "      <th></th>\n",
              "      <th>weekly_icu_admissions</th>\n",
              "      <th>weekly_icu_admissions_per_million</th>\n",
              "      <th>excess_mortality_cumulative_absolute</th>\n",
              "      <th>excess_mortality_cumulative</th>\n",
              "      <th>excess_mortality</th>\n",
              "      <th>excess_mortality_cumulative_per_million</th>\n",
              "      <th>total_boosters</th>\n",
              "      <th>total_boosters_per_hundred</th>\n",
              "      <th>weekly_hosp_admissions</th>\n",
              "      <th>weekly_hosp_admissions_per_million</th>\n",
              "      <th>...</th>\n",
              "      <th>iso_code</th>\n",
              "      <th>location</th>\n",
              "      <th>date</th>\n",
              "      <th>total_cases</th>\n",
              "      <th>new_cases</th>\n",
              "      <th>new_cases_smoothed</th>\n",
              "      <th>total_cases_per_million</th>\n",
              "      <th>new_cases_per_million</th>\n",
              "      <th>new_cases_smoothed_per_million</th>\n",
              "      <th>population</th>\n",
              "    </tr>\n",
              "  </thead>\n",
              "  <tbody>\n",
              "    <tr>\n",
              "      <th>0</th>\n",
              "      <td>2537</td>\n",
              "      <td>2537</td>\n",
              "      <td>2524</td>\n",
              "      <td>2524</td>\n",
              "      <td>2524</td>\n",
              "      <td>2524</td>\n",
              "      <td>2514</td>\n",
              "      <td>2514</td>\n",
              "      <td>2478</td>\n",
              "      <td>2478</td>\n",
              "      <td>...</td>\n",
              "      <td>0</td>\n",
              "      <td>0</td>\n",
              "      <td>0</td>\n",
              "      <td>0</td>\n",
              "      <td>0</td>\n",
              "      <td>0</td>\n",
              "      <td>0</td>\n",
              "      <td>0</td>\n",
              "      <td>0</td>\n",
              "      <td>0</td>\n",
              "    </tr>\n",
              "  </tbody>\n",
              "</table>\n",
              "<p>1 rows × 67 columns</p>\n",
              "</div>\n",
              "      <button class=\"colab-df-convert\" onclick=\"convertToInteractive('df-5955d938-240f-497e-83df-de663602c12a')\"\n",
              "              title=\"Convert this dataframe to an interactive table.\"\n",
              "              style=\"display:none;\">\n",
              "        \n",
              "  <svg xmlns=\"http://www.w3.org/2000/svg\" height=\"24px\"viewBox=\"0 0 24 24\"\n",
              "       width=\"24px\">\n",
              "    <path d=\"M0 0h24v24H0V0z\" fill=\"none\"/>\n",
              "    <path d=\"M18.56 5.44l.94 2.06.94-2.06 2.06-.94-2.06-.94-.94-2.06-.94 2.06-2.06.94zm-11 1L8.5 8.5l.94-2.06 2.06-.94-2.06-.94L8.5 2.5l-.94 2.06-2.06.94zm10 10l.94 2.06.94-2.06 2.06-.94-2.06-.94-.94-2.06-.94 2.06-2.06.94z\"/><path d=\"M17.41 7.96l-1.37-1.37c-.4-.4-.92-.59-1.43-.59-.52 0-1.04.2-1.43.59L10.3 9.45l-7.72 7.72c-.78.78-.78 2.05 0 2.83L4 21.41c.39.39.9.59 1.41.59.51 0 1.02-.2 1.41-.59l7.78-7.78 2.81-2.81c.8-.78.8-2.07 0-2.86zM5.41 20L4 18.59l7.72-7.72 1.47 1.35L5.41 20z\"/>\n",
              "  </svg>\n",
              "      </button>\n",
              "      \n",
              "  <style>\n",
              "    .colab-df-container {\n",
              "      display:flex;\n",
              "      flex-wrap:wrap;\n",
              "      gap: 12px;\n",
              "    }\n",
              "\n",
              "    .colab-df-convert {\n",
              "      background-color: #E8F0FE;\n",
              "      border: none;\n",
              "      border-radius: 50%;\n",
              "      cursor: pointer;\n",
              "      display: none;\n",
              "      fill: #1967D2;\n",
              "      height: 32px;\n",
              "      padding: 0 0 0 0;\n",
              "      width: 32px;\n",
              "    }\n",
              "\n",
              "    .colab-df-convert:hover {\n",
              "      background-color: #E2EBFA;\n",
              "      box-shadow: 0px 1px 2px rgba(60, 64, 67, 0.3), 0px 1px 3px 1px rgba(60, 64, 67, 0.15);\n",
              "      fill: #174EA6;\n",
              "    }\n",
              "\n",
              "    [theme=dark] .colab-df-convert {\n",
              "      background-color: #3B4455;\n",
              "      fill: #D2E3FC;\n",
              "    }\n",
              "\n",
              "    [theme=dark] .colab-df-convert:hover {\n",
              "      background-color: #434B5C;\n",
              "      box-shadow: 0px 1px 3px 1px rgba(0, 0, 0, 0.15);\n",
              "      filter: drop-shadow(0px 1px 2px rgba(0, 0, 0, 0.3));\n",
              "      fill: #FFFFFF;\n",
              "    }\n",
              "  </style>\n",
              "\n",
              "      <script>\n",
              "        const buttonEl =\n",
              "          document.querySelector('#df-5955d938-240f-497e-83df-de663602c12a button.colab-df-convert');\n",
              "        buttonEl.style.display =\n",
              "          google.colab.kernel.accessAllowed ? 'block' : 'none';\n",
              "\n",
              "        async function convertToInteractive(key) {\n",
              "          const element = document.querySelector('#df-5955d938-240f-497e-83df-de663602c12a');\n",
              "          const dataTable =\n",
              "            await google.colab.kernel.invokeFunction('convertToInteractive',\n",
              "                                                     [key], {});\n",
              "          if (!dataTable) return;\n",
              "\n",
              "          const docLinkHtml = 'Like what you see? Visit the ' +\n",
              "            '<a target=\"_blank\" href=https://colab.research.google.com/notebooks/data_table.ipynb>data table notebook</a>'\n",
              "            + ' to learn more about interactive tables.';\n",
              "          element.innerHTML = '';\n",
              "          dataTable['output_type'] = 'display_data';\n",
              "          await google.colab.output.renderOutput(dataTable, element);\n",
              "          const docLink = document.createElement('div');\n",
              "          docLink.innerHTML = docLinkHtml;\n",
              "          element.appendChild(docLink);\n",
              "        }\n",
              "      </script>\n",
              "    </div>\n",
              "  </div>\n",
              "  "
            ]
          },
          "metadata": {},
          "execution_count": 13
        }
      ]
    },
    {
      "cell_type": "code",
      "source": [
        "df.sort(\"continent\").select(\"iso_code\",\"continent\",\"location\").show(5)"
      ],
      "metadata": {
        "colab": {
          "base_uri": "https://localhost:8080/"
        },
        "id": "dmrvHhysWTaO",
        "outputId": "df895bc9-ce03-431c-d2e8-bbcbee411a29"
      },
      "execution_count": null,
      "outputs": [
        {
          "output_type": "stream",
          "name": "stdout",
          "text": [
            "+--------+---------+--------+\n",
            "|iso_code|continent|location|\n",
            "+--------+---------+--------+\n",
            "|OWID_AFR|     null|  Africa|\n",
            "|OWID_AFR|     null|  Africa|\n",
            "|OWID_AFR|     null|  Africa|\n",
            "|OWID_AFR|     null|  Africa|\n",
            "|OWID_AFR|     null|  Africa|\n",
            "+--------+---------+--------+\n",
            "only showing top 5 rows\n",
            "\n"
          ]
        }
      ]
    },
    {
      "cell_type": "code",
      "source": [
        "df = df.fillna({'continent':'OWID'})"
      ],
      "metadata": {
        "id": "EgG6kSB3WTco"
      },
      "execution_count": null,
      "outputs": []
    },
    {
      "cell_type": "code",
      "source": [
        "df.select(\"tests_units\").distinct().show()"
      ],
      "metadata": {
        "colab": {
          "base_uri": "https://localhost:8080/"
        },
        "id": "8-WKUqGXWTfN",
        "outputId": "02712413-5825-4b58-e39c-1e5a535851fb"
      },
      "execution_count": null,
      "outputs": [
        {
          "output_type": "stream",
          "name": "stdout",
          "text": [
            "+---------------+\n",
            "|    tests_units|\n",
            "+---------------+\n",
            "|           null|\n",
            "| samples tested|\n",
            "|tests performed|\n",
            "|  units unclear|\n",
            "+---------------+\n",
            "\n"
          ]
        }
      ]
    },
    {
      "cell_type": "code",
      "source": [
        "df = df.fillna({'tests_units':'no info'})"
      ],
      "metadata": {
        "id": "eAIpXIefWTiD"
      },
      "execution_count": null,
      "outputs": []
    },
    {
      "cell_type": "code",
      "source": [
        "df = df.fillna(0)"
      ],
      "metadata": {
        "id": "6TS-U0lrWTka"
      },
      "execution_count": null,
      "outputs": []
    },
    {
      "cell_type": "code",
      "source": [
        "miss_vals = df.select([F.count(F.when(F.isnull(c), c)).alias(c) for c in df.columns]).collect()[0].asDict()\n",
        "if any(list(miss_vals.values())) != 0:\n",
        "    print(\"There are still missing values in the DataFrame.\")\n",
        "else:\n",
        "    print(\"All missing values have been taken care of.\")"
      ],
      "metadata": {
        "colab": {
          "base_uri": "https://localhost:8080/"
        },
        "id": "8h_KDVJjWTnX",
        "outputId": "06594517-b5cf-4df1-90d8-0ca2ac5c5a9a"
      },
      "execution_count": null,
      "outputs": [
        {
          "output_type": "stream",
          "name": "stdout",
          "text": [
            "All missing values have been taken care of.\n"
          ]
        }
      ]
    },
    {
      "cell_type": "code",
      "source": [
        "def OutlierDetector(dataframe, features, alpha=1.5):\n",
        "    \"\"\"\n",
        "    Args:\n",
        "        dataframe (pyspark.sql.dataframe.DataFrame):\n",
        "            the DataFrame hosting the data\n",
        "        features (string or List):\n",
        "            List of features (columns) for which we wish to identify outliers.\n",
        "            If set equal to 'all', outliers are identified with respect to all features.\n",
        "        alpha (double):\n",
        "            The parameter that defines the decision boundary (see markdown above)\n",
        "    \"\"\"\n",
        "    feat_types = dict(dataframe.dtypes)\n",
        "    if features == 'all':\n",
        "        features = dataframe.columns\n",
        "        \n",
        "    outliers_cols = []\n",
        "    \n",
        "    for feat in features:\n",
        "        # We only care for quantitative features\n",
        "        if feat_types[feat] == 'double':\n",
        "            Q1, Q3 = dataframe.approxQuantile(feat, [0.25, 0.75], 0)\n",
        "            R = Q3 - Q1\n",
        "            lower_bound = Q1 - (R * alpha)\n",
        "            upper_bound = Q3 + (R * alpha)\n",
        "            \n",
        "            # In this way we construct a query, which can be matched to a DataFrame column, thus returning a new\n",
        "            # column where every point that corresponds to an Outlier has a boolean value set to True\n",
        "            outliers_cols.append(F.when(~F.col(feat).between(lower_bound, upper_bound), True).alias(feat + '_outlier'))\n",
        "    \n",
        "    # Sample points that do not correspond to outliers correspond to a False value for the new column\n",
        "    outlier_df = dataframe.select(*outliers_cols)\n",
        "    outlier_df = outlier_df.fillna(False)\n",
        "    return outlier_df"
      ],
      "metadata": {
        "id": "PgIdo_bjYu-d"
      },
      "execution_count": null,
      "outputs": []
    },
    {
      "cell_type": "code",
      "source": [
        "out_df = OutlierDetector(dataframe=df, features=['new_cases'], alpha=1.5)\n",
        "out_df.show(5)"
      ],
      "metadata": {
        "colab": {
          "base_uri": "https://localhost:8080/"
        },
        "id": "WHU1lILBYvMM",
        "outputId": "bb8834a4-236d-4381-eb33-c6532e0499ca"
      },
      "execution_count": null,
      "outputs": [
        {
          "output_type": "stream",
          "name": "stdout",
          "text": [
            "+-----------------+\n",
            "|new_cases_outlier|\n",
            "+-----------------+\n",
            "|            false|\n",
            "|            false|\n",
            "|            false|\n",
            "|            false|\n",
            "|            false|\n",
            "+-----------------+\n",
            "only showing top 5 rows\n",
            "\n"
          ]
        }
      ]
    },
    {
      "cell_type": "code",
      "source": [
        "if df.count() != df.select(['location','date']).distinct().count():\n",
        "    print(\"There are duplicate entries present in the DataFrame.\")\n",
        "else:\n",
        "    print(\"Either there are no duplicate entries present in the DataFrame, or all of them have already been removed).\")"
      ],
      "metadata": {
        "colab": {
          "base_uri": "https://localhost:8080/"
        },
        "id": "2C9uO7rQYvXs",
        "outputId": "e08cb381-cfae-4831-bf49-ae1709431692"
      },
      "execution_count": null,
      "outputs": [
        {
          "output_type": "stream",
          "name": "stdout",
          "text": [
            "Either there are no duplicate entries present in the DataFrame, or all of them have already been removed).\n"
          ]
        }
      ]
    },
    {
      "cell_type": "code",
      "source": [
        "import matplotlib\n",
        "import numpy as np\n",
        "import matplotlib.pyplot as plt\n",
        "import seaborn as sns\n",
        "\n",
        "from matplotlib.colors import ListedColormap, LinearSegmentedColormap, TwoSlopeNorm\n",
        "from mpl_toolkits.axes_grid1 import make_axes_locatable\n",
        "\n",
        "def CustomCmap(from_rgb,to_rgb):\n",
        "\n",
        "    # from color r,g,b\n",
        "    r1,g1,b1 = from_rgb\n",
        "\n",
        "    # to color r,g,b\n",
        "    r2,g2,b2 = to_rgb\n",
        "\n",
        "    cdict = {'red': ((0, r1, r1),\n",
        "                   (1, r2, r2)),\n",
        "           'green': ((0, g1, g1),\n",
        "                    (1, g2, g2)),\n",
        "           'blue': ((0, b1, b1),\n",
        "                   (1, b2, b2))}\n",
        "\n",
        "    cmap = LinearSegmentedColormap('custom_cmap', cdict)\n",
        "    return cmap\n",
        "\n",
        "mycmap = CustomCmap([1.0, 1.0, 1.0], [72/255, 99/255, 147/255])\n",
        "mycmap_r = CustomCmap([72/255, 99/255, 147/255], [1.0, 1.0, 1.0])\n",
        "\n",
        "mycol = (72/255, 99/255, 147/255)\n",
        "mycomplcol = (129/255, 143/255, 163/255)\n",
        "othercol1 = (135/255, 121/255, 215/255)\n",
        "othercol2 = (57/255, 119/255, 171/255)\n",
        "othercol3 = (68/255, 81/255, 91/255)\n",
        "othercol4 = (73/255, 149/255, 139/255)"
      ],
      "metadata": {
        "id": "_2PWZGOiWTvI"
      },
      "execution_count": null,
      "outputs": []
    },
    {
      "cell_type": "code",
      "source": [
        "dates_frame = df.select(\"date\").distinct().orderBy('date').collect()\n",
        "dates_list = [str(dates_frame[x][0]) for x in range(len(dates_frame))]"
      ],
      "metadata": {
        "id": "OUeu2KZXWTx3"
      },
      "execution_count": null,
      "outputs": []
    },
    {
      "cell_type": "code",
      "source": [
        "df_for_mort = df.filter(F.col('population') != 0.0).withColumn(\"mortality\", F.col(\"total_deaths\")/F.col(\"population\"))\n",
        "\n",
        "for i, this_day in enumerate(dates_list):\n",
        "    this_day_top_10 = df_for_mort.filter(F.col('date') == this_day).orderBy(\"mortality\", ascending=False).select([\"location\",\"mortality\"]).take(10)\n",
        "    if i == 0:\n",
        "        ct_list = [(this_day_top_10[x][0],this_day_top_10[x][1]) for x in range(10)]\n",
        "        print(\"During \"+this_day+\", the top 10 countries with the highest mortality rate were:\")\n",
        "        for country, instance in ct_list:\n",
        "            print(f\"▶ {country}, with mortality rate {100*instance:.2f}%.\")\n",
        "        new_set = set(ct_list[x][0] for x in range(10))\n",
        "    elif i == len(dates_list)-1:\n",
        "        ct_list = [(this_day_top_10[x][0],this_day_top_10[x][1]) for x in range(10)]\n",
        "        print(\"During \"+this_day+\", the top 10 countries with the highest mortality rate were:\")\n",
        "        for country, instance in ct_list:\n",
        "            print(f\"▶ {country}, with mortality rate {100*instance:.2f}%.\")\n",
        "    else:\n",
        "        new_set = set(this_day_top_10[x][0] for x in range(10))\n",
        "        if new_set != old_set:\n",
        "            left_out = old_set-new_set\n",
        "            new_additions = new_set-old_set\n",
        "            print(\"This was the top ten until \"+this_day+\", when \"+\", \".join(str(s) for s in new_additions)+\" joined the list, replacing \"+\", \".join(str(s) for s in left_out)+\".\")\n",
        "    new_set, old_set = set(), new_set"
      ],
      "metadata": {
        "colab": {
          "base_uri": "https://localhost:8080/"
        },
        "id": "3cUvYH8EWT0T",
        "outputId": "cf0acdda-7bbb-4a6b-a464-63f2999f9d5c"
      },
      "execution_count": null,
      "outputs": [
        {
          "output_type": "stream",
          "name": "stdout",
          "text": [
            "During 2021-01-01, the top 10 countries with the highest mortality rate were:\n",
            "▶ Belgium, with mortality rate 0.17%.\n",
            "▶ Bosnia and Herzegovina, with mortality rate 0.13%.\n",
            "▶ Bulgaria, with mortality rate 0.11%.\n",
            "▶ Andorra, with mortality rate 0.11%.\n",
            "▶ Armenia, with mortality rate 0.10%.\n",
            "▶ Argentina, with mortality rate 0.09%.\n",
            "▶ Brazil, with mortality rate 0.09%.\n",
            "▶ Chile, with mortality rate 0.09%.\n",
            "▶ Bolivia, with mortality rate 0.08%.\n",
            "▶ Austria, with mortality rate 0.07%.\n",
            "During 2021-02-28, the top 10 countries with the highest mortality rate were:\n",
            "▶ Belgium, with mortality rate 0.19%.\n",
            "▶ Bosnia and Herzegovina, with mortality rate 0.16%.\n",
            "▶ Bulgaria, with mortality rate 0.15%.\n",
            "▶ Andorra, with mortality rate 0.14%.\n",
            "▶ Brazil, with mortality rate 0.12%.\n",
            "▶ Argentina, with mortality rate 0.11%.\n",
            "▶ Armenia, with mortality rate 0.11%.\n",
            "▶ Chile, with mortality rate 0.11%.\n",
            "▶ Bolivia, with mortality rate 0.10%.\n",
            "▶ Austria, with mortality rate 0.09%.\n"
          ]
        }
      ]
    },
    {
      "cell_type": "code",
      "source": [
        "for i, this_day in enumerate(dates_list):\n",
        "    this_day_top_10 = df.filter(F.col('date') == this_day).orderBy(\"total_cases_per_million\", ascending=False).select([\"location\",\"total_cases_per_million\"]).take(10)\n",
        "    if i == 0:\n",
        "        ct_list = [(this_day_top_10[x][0],this_day_top_10[x][1]) for x in range(10)]\n",
        "        print(\"During \"+this_day+\", the top 10 countries with the highest number of total cases per million were:\")\n",
        "        for country, instance in ct_list:\n",
        "            print(f\"▶ {country}, with {instance} total cases per million.\")\n",
        "        new_set = set(ct_list[x][0] for x in range(10))\n",
        "    elif i == len(dates_list)-1:\n",
        "        ct_list = [(this_day_top_10[x][0],this_day_top_10[x][1]) for x in range(10)]\n",
        "        print(\"During \"+this_day+\", the top 10 countries with the highest number of total cases per million were:\")\n",
        "        for country, instance in ct_list:\n",
        "            print(f\"▶ {country}, with {instance} total cases per million.\")\n",
        "    else:\n",
        "        new_set = set(this_day_top_10[x][0] for x in range(10))\n",
        "        if new_set != old_set:\n",
        "            left_out = old_set-new_set\n",
        "            new_additions = new_set-old_set\n",
        "            print(\"This was the top ten until \"+this_day+\", when \"+\", \".join(str(s) for s in new_additions)+\" joined the list, replacing \"+\", \".join(str(s) for s in left_out)+\".\")\n",
        "    new_set, old_set = set(), new_set"
      ],
      "metadata": {
        "colab": {
          "base_uri": "https://localhost:8080/"
        },
        "id": "_1BS2jqQWT2x",
        "outputId": "998f72f0-6840-4d3b-e15e-0505d2e77437"
      },
      "execution_count": null,
      "outputs": [
        {
          "output_type": "stream",
          "name": "stdout",
          "text": [
            "During 2021-01-01, the top 10 countries with the highest number of total cases per million were:\n",
            "▶ Andorra, with 104933.164 total cases per million.\n",
            "▶ Belgium, with 55731.636 total cases per million.\n",
            "▶ Armenia, with 53817.76 total cases per million.\n",
            "▶ Bahrain, with 53144.921 total cases per million.\n",
            "▶ Aruba, with 51392.322 total cases per million.\n",
            "▶ Austria, with 40131.385 total cases per million.\n",
            "▶ Brazil, with 36000.968 total cases per million.\n",
            "▶ Argentina, with 35732.148 total cases per million.\n",
            "▶ Bosnia and Herzegovina, with 34363.232 total cases per million.\n",
            "▶ Chile, with 31883.846 total cases per million.\n",
            "During 2021-02-28, the top 10 countries with the highest number of total cases per million were:\n",
            "▶ Andorra, with 140471.081 total cases per million.\n",
            "▶ Aruba, with 73613.508 total cases per million.\n",
            "▶ Bahrain, with 70007.636 total cases per million.\n",
            "▶ Belgium, with 66324.695 total cases per million.\n",
            "▶ Armenia, with 57968.524 total cases per million.\n",
            "▶ Austria, with 50805.744 total cases per million.\n",
            "▶ Brazil, with 49338.386 total cases per million.\n",
            "▶ Argentina, with 46208.244 total cases per million.\n",
            "▶ Chile, with 42921.584 total cases per million.\n",
            "▶ Bosnia and Herzegovina, with 40135.022 total cases per million.\n"
          ]
        }
      ]
    },
    {
      "cell_type": "code",
      "source": [
        "dt_ord = df.orderBy(\"date\", ascending=True).groupBy(\"date\")\n",
        "\n",
        "hosps = dt_ord.agg(F.sum(\"hosp_patients\")).collect()\n",
        "hosps = [hosps[i][1] for i in range(len(hosps))]\n",
        "\n",
        "icus = dt_ord.agg(F.sum(\"icu_patients\")).collect()\n",
        "icus = [icus[i][1] for i in range(len(icus))]\n",
        "\n",
        "sns.set(style = \"darkgrid\")\n",
        "\n",
        "alt_dts_list = [dt.replace('2021-', '') for dt in dates_list]\n",
        "tick_marks = np.arange(len(alt_dts_list))\n",
        "\n",
        "fig, [ax1,ax2] = plt.subplots(1, 2, figsize=(14,5))\n",
        "\n",
        "for pat, col, style, ax, where in zip([hosps,icus], [mycol, mycomplcol],\n",
        "                                      ['solid', 'dashed'], [ax1,ax2], ['Normal Beds','ICUs']): \n",
        "    ax.plot(alt_dts_list, pat, linestyle=style, color=col)\n",
        "    ax.set_xlabel(\"Date\")\n",
        "    ax.set_ylabel(\"Number of Patients\")\n",
        "    ax.set_title(f\"Daily Number of Patients in {where}\", fontsize=14)\n",
        "    ax.set_xticks(tick_marks[::5])\n",
        "    ax.set_xticklabels(alt_dts_list[::5], rotation=45)\n",
        "    \n",
        "plt.show()\n",
        "\n",
        "matplotlib.rc_file_defaults()"
      ],
      "metadata": {
        "colab": {
          "base_uri": "https://localhost:8080/",
          "height": 376
        },
        "id": "K1r8Vj6rWT6O",
        "outputId": "4fc20f1b-2521-4ce5-b592-5cce6680f88f"
      },
      "execution_count": null,
      "outputs": [
        {
          "output_type": "display_data",
          "data": {
            "text/plain": [
              "<Figure size 1008x360 with 2 Axes>"
            ],
            "image/png": "[encoded data removed]"
          },
          "metadata": {}
        }
      ]
    },
    {
      "cell_type": "code",
      "source": [
        "import requests, zipfile\n",
        "from io import BytesIO\n",
        "\n",
        "zip_file_url = \"https://srigas.me/kaggle/owid-nb-data.zip\"\n",
        "\n",
        "request = requests.get(zip_file_url)\n",
        "zipDocument = zipfile.ZipFile(BytesIO(request.content))\n",
        "\n",
        "zipDocument.extractall()"
      ],
      "metadata": {
        "id": "3-LWN2bkbDMO"
      },
      "execution_count": null,
      "outputs": []
    },
    {
      "cell_type": "code",
      "source": [
        "!pip install geopandas\n",
        "import geopandas as gpd\n",
        "\n",
        "shapefile = 'countries.shp'\n",
        "geo_df = gpd.read_file(shapefile)[['ADMIN','ADM0_A3','geometry']]\n",
        "geo_df.columns = ['location', 'iso_code', 'geometry']\n",
        "geo_df = geo_df.drop(geo_df.loc[geo_df['location'] == 'Antarctica'].index) # exclude Antarctica"
      ],
      "metadata": {
        "colab": {
          "base_uri": "https://localhost:8080/"
        },
        "id": "6UkOKSu7bDPB",
        "outputId": "1de8206a-bcd7-4c72-81fd-76633534654c"
      },
      "execution_count": null,
      "outputs": [
        {
          "output_type": "stream",
          "name": "stdout",
          "text": [
            "Collecting geopandas\n",
            "  Downloading geopandas-0.10.2-py2.py3-none-any.whl (1.0 MB)\n",
            "\u001b[?25l\r\u001b[K     |▎                               | 10 kB 19.6 MB/s eta 0:00:01\r\u001b[K     |▋                               | 20 kB 21.6 MB/s eta 0:00:01\r\u001b[K     |█                               | 30 kB 24.8 MB/s eta 0:00:01\r\u001b[K     |█▎                              | 40 kB 29.2 MB/s eta 0:00:01\r\u001b[K     |█▋                              | 51 kB 17.9 MB/s eta 0:00:01\r\u001b[K     |██                              | 61 kB 20.4 MB/s eta 0:00:01\r\u001b[K     |██▎                             | 71 kB 12.5 MB/s eta 0:00:01\r\u001b[K     |██▌                             | 81 kB 13.1 MB/s eta 0:00:01\r\u001b[K     |██▉                             | 92 kB 13.9 MB/s eta 0:00:01\r\u001b[K     |███▏                            | 102 kB 15.0 MB/s eta 0:00:01\r\u001b[K     |███▌                            | 112 kB 15.0 MB/s eta 0:00:01\r\u001b[K     |███▉                            | 122 kB 15.0 MB/s eta 0:00:01\r\u001b[K     |████▏                           | 133 kB 15.0 MB/s eta 0:00:01\r\u001b[K     |████▌                           | 143 kB 15.0 MB/s eta 0:00:01\r\u001b[K     |████▊                           | 153 kB 15.0 MB/s eta 0:00:01\r\u001b[K     |█████                           | 163 kB 15.0 MB/s eta 0:00:01\r\u001b[K     |█████▍                          | 174 kB 15.0 MB/s eta 0:00:01\r\u001b[K     |█████▊                          | 184 kB 15.0 MB/s eta 0:00:01\r\u001b[K     |██████                          | 194 kB 15.0 MB/s eta 0:00:01\r\u001b[K     |██████▍                         | 204 kB 15.0 MB/s eta 0:00:01\r\u001b[K     |██████▊                         | 215 kB 15.0 MB/s eta 0:00:01\r\u001b[K     |███████                         | 225 kB 15.0 MB/s eta 0:00:01\r\u001b[K     |███████▎                        | 235 kB 15.0 MB/s eta 0:00:01\r\u001b[K     |███████▋                        | 245 kB 15.0 MB/s eta 0:00:01\r\u001b[K     |████████                        | 256 kB 15.0 MB/s eta 0:00:01\r\u001b[K     |████████▎                       | 266 kB 15.0 MB/s eta 0:00:01\r\u001b[K     |████████▋                       | 276 kB 15.0 MB/s eta 0:00:01\r\u001b[K     |█████████                       | 286 kB 15.0 MB/s eta 0:00:01\r\u001b[K     |█████████▏                      | 296 kB 15.0 MB/s eta 0:00:01\r\u001b[K     |█████████▌                      | 307 kB 15.0 MB/s eta 0:00:01\r\u001b[K     |█████████▉                      | 317 kB 15.0 MB/s eta 0:00:01\r\u001b[K     |██████████▏                     | 327 kB 15.0 MB/s eta 0:00:01\r\u001b[K     |██████████▌                     | 337 kB 15.0 MB/s eta 0:00:01\r\u001b[K     |██████████▉                     | 348 kB 15.0 MB/s eta 0:00:01\r\u001b[K     |███████████▏                    | 358 kB 15.0 MB/s eta 0:00:01\r\u001b[K     |███████████▍                    | 368 kB 15.0 MB/s eta 0:00:01\r\u001b[K     |███████████▊                    | 378 kB 15.0 MB/s eta 0:00:01\r\u001b[K     |████████████                    | 389 kB 15.0 MB/s eta 0:00:01\r\u001b[K     |████████████▍                   | 399 kB 15.0 MB/s eta 0:00:01\r\u001b[K     |████████████▊                   | 409 kB 15.0 MB/s eta 0:00:01\r\u001b[K     |█████████████                   | 419 kB 15.0 MB/s eta 0:00:01\r\u001b[K     |█████████████▍                  | 430 kB 15.0 MB/s eta 0:00:01\r\u001b[K     |█████████████▋                  | 440 kB 15.0 MB/s eta 0:00:01\r\u001b[K     |██████████████                  | 450 kB 15.0 MB/s eta 0:00:01\r\u001b[K     |██████████████▎                 | 460 kB 15.0 MB/s eta 0:00:01\r\u001b[K     |██████████████▋                 | 471 kB 15.0 MB/s eta 0:00:01\r\u001b[K     |███████████████                 | 481 kB 15.0 MB/s eta 0:00:01\r\u001b[K     |███████████████▎                | 491 kB 15.0 MB/s eta 0:00:01\r\u001b[K     |███████████████▋                | 501 kB 15.0 MB/s eta 0:00:01\r\u001b[K     |███████████████▉                | 512 kB 15.0 MB/s eta 0:00:01\r\u001b[K     |████████████████▏               | 522 kB 15.0 MB/s eta 0:00:01\r\u001b[K     |████████████████▌               | 532 kB 15.0 MB/s eta 0:00:01\r\u001b[K     |████████████████▉               | 542 kB 15.0 MB/s eta 0:00:01\r\u001b[K     |█████████████████▏              | 552 kB 15.0 MB/s eta 0:00:01\r\u001b[K     |█████████████████▌              | 563 kB 15.0 MB/s eta 0:00:01\r\u001b[K     |█████████████████▉              | 573 kB 15.0 MB/s eta 0:00:01\r\u001b[K     |██████████████████              | 583 kB 15.0 MB/s eta 0:00:01\r\u001b[K     |██████████████████▍             | 593 kB 15.0 MB/s eta 0:00:01\r\u001b[K     |██████████████████▊             | 604 kB 15.0 MB/s eta 0:00:01\r\u001b[K     |███████████████████             | 614 kB 15.0 MB/s eta 0:00:01\r\u001b[K     |███████████████████▍            | 624 kB 15.0 MB/s eta 0:00:01\r\u001b[K     |███████████████████▊            | 634 kB 15.0 MB/s eta 0:00:01\r\u001b[K     |████████████████████            | 645 kB 15.0 MB/s eta 0:00:01\r\u001b[K     |████████████████████▎           | 655 kB 15.0 MB/s eta 0:00:01\r\u001b[K     |████████████████████▋           | 665 kB 15.0 MB/s eta 0:00:01\r\u001b[K     |█████████████████████           | 675 kB 15.0 MB/s eta 0:00:01\r\u001b[K     |█████████████████████▎          | 686 kB 15.0 MB/s eta 0:00:01\r\u001b[K     |█████████████████████▋          | 696 kB 15.0 MB/s eta 0:00:01\r\u001b[K     |██████████████████████          | 706 kB 15.0 MB/s eta 0:00:01\r\u001b[K     |██████████████████████▎         | 716 kB 15.0 MB/s eta 0:00:01\r\u001b[K     |██████████████████████▋         | 727 kB 15.0 MB/s eta 0:00:01\r\u001b[K     |██████████████████████▉         | 737 kB 15.0 MB/s eta 0:00:01\r\u001b[K     |███████████████████████▏        | 747 kB 15.0 MB/s eta 0:00:01\r\u001b[K     |███████████████████████▌        | 757 kB 15.0 MB/s eta 0:00:01\r\u001b[K     |███████████████████████▉        | 768 kB 15.0 MB/s eta 0:00:01\r\u001b[K     |████████████████████████▏       | 778 kB 15.0 MB/s eta 0:00:01\r\u001b[K     |████████████████████████▌       | 788 kB 15.0 MB/s eta 0:00:01\r\u001b[K     |████████████████████████▉       | 798 kB 15.0 MB/s eta 0:00:01\r\u001b[K     |█████████████████████████       | 808 kB 15.0 MB/s eta 0:00:01\r\u001b[K     |█████████████████████████▍      | 819 kB 15.0 MB/s eta 0:00:01\r\u001b[K     |█████████████████████████▊      | 829 kB 15.0 MB/s eta 0:00:01\r\u001b[K     |██████████████████████████      | 839 kB 15.0 MB/s eta 0:00:01\r\u001b[K     |██████████████████████████▍     | 849 kB 15.0 MB/s eta 0:00:01\r\u001b[K     |██████████████████████████▊     | 860 kB 15.0 MB/s eta 0:00:01\r\u001b[K     |███████████████████████████     | 870 kB 15.0 MB/s eta 0:00:01\r\u001b[K     |███████████████████████████▎    | 880 kB 15.0 MB/s eta 0:00:01\r\u001b[K     |███████████████████████████▋    | 890 kB 15.0 MB/s eta 0:00:01\r\u001b[K     |████████████████████████████    | 901 kB 15.0 MB/s eta 0:00:01\r\u001b[K     |████████████████████████████▎   | 911 kB 15.0 MB/s eta 0:00:01\r\u001b[K     |████████████████████████████▋   | 921 kB 15.0 MB/s eta 0:00:01\r\u001b[K     |█████████████████████████████   | 931 kB 15.0 MB/s eta 0:00:01\r\u001b[K     |█████████████████████████████▎  | 942 kB 15.0 MB/s eta 0:00:01\r\u001b[K     |█████████████████████████████▌  | 952 kB 15.0 MB/s eta 0:00:01\r\u001b[K     |█████████████████████████████▉  | 962 kB 15.0 MB/s eta 0:00:01\r\u001b[K     |██████████████████████████████▏ | 972 kB 15.0 MB/s eta 0:00:01\r\u001b[K     |██████████████████████████████▌ | 983 kB 15.0 MB/s eta 0:00:01\r\u001b[K     |██████████████████████████████▉ | 993 kB 15.0 MB/s eta 0:00:01\r\u001b[K     |███████████████████████████████▏| 1.0 MB 15.0 MB/s eta 0:00:01\r\u001b[K     |███████████████████████████████▌| 1.0 MB 15.0 MB/s eta 0:00:01\r\u001b[K     |███████████████████████████████▊| 1.0 MB 15.0 MB/s eta 0:00:01\r\u001b[K     |████████████████████████████████| 1.0 MB 15.0 MB/s \n",
            "\u001b[?25hRequirement already satisfied: shapely>=1.6 in /usr/local/lib/python3.7/dist-packages (from geopandas) (1.8.1.post1)\n",
            "Collecting pyproj>=2.2.0\n",
            "  Downloading pyproj-3.2.1-cp37-cp37m-manylinux2010_x86_64.whl (6.3 MB)\n",
            "\u001b[K     |████████████████████████████████| 6.3 MB 51.2 MB/s \n",
            "\u001b[?25hRequirement already satisfied: pandas>=0.25.0 in /usr/local/lib/python3.7/dist-packages (from geopandas) (1.3.5)\n",
            "Collecting fiona>=1.8\n",
            "  Downloading Fiona-1.8.21-cp37-cp37m-manylinux2014_x86_64.whl (16.7 MB)\n",
            "\u001b[K     |████████████████████████████████| 16.7 MB 287 kB/s \n",
            "\u001b[?25hRequirement already satisfied: six>=1.7 in /usr/local/lib/python3.7/dist-packages (from fiona>=1.8->geopandas) (1.15.0)\n",
            "Requirement already satisfied: click>=4.0 in /usr/local/lib/python3.7/dist-packages (from fiona>=1.8->geopandas) (7.1.2)\n",
            "Collecting munch\n",
            "  Downloading munch-2.5.0-py2.py3-none-any.whl (10 kB)\n",
            "Requirement already satisfied: setuptools in /usr/local/lib/python3.7/dist-packages (from fiona>=1.8->geopandas) (57.4.0)\n",
            "Requirement already satisfied: attrs>=17 in /usr/local/lib/python3.7/dist-packages (from fiona>=1.8->geopandas) (21.4.0)\n",
            "Collecting cligj>=0.5\n",
            "  Downloading cligj-0.7.2-py3-none-any.whl (7.1 kB)\n",
            "Requirement already satisfied: certifi in /usr/local/lib/python3.7/dist-packages (from fiona>=1.8->geopandas) (2021.10.8)\n",
            "Collecting click-plugins>=1.0\n",
            "  Downloading click_plugins-1.1.1-py2.py3-none-any.whl (7.5 kB)\n",
            "Requirement already satisfied: python-dateutil>=2.7.3 in /usr/local/lib/python3.7/dist-packages (from pandas>=0.25.0->geopandas) (2.8.2)\n",
            "Requirement already satisfied: numpy>=1.17.3 in /usr/local/lib/python3.7/dist-packages (from pandas>=0.25.0->geopandas) (1.21.6)\n",
            "Requirement already satisfied: pytz>=2017.3 in /usr/local/lib/python3.7/dist-packages (from pandas>=0.25.0->geopandas) (2022.1)\n",
            "Installing collected packages: munch, cligj, click-plugins, pyproj, fiona, geopandas\n",
            "Successfully installed click-plugins-1.1.1 cligj-0.7.2 fiona-1.8.21 geopandas-0.10.2 munch-2.5.0 pyproj-3.2.1\n"
          ]
        }
      ]
    },
    {
      "cell_type": "code",
      "source": [
        "print('Initializing the construction of heatmaps for every day.')\n",
        "\n",
        "ct = 0\n",
        "for this_day in dates_list:\n",
        "    # The conversion of the required columns into a Pandas df is necessary to perform the mapping\n",
        "    day_df = df.filter(F.col('date') == this_day).select([\"iso_code\",\"total_cases\"]).toPandas()\n",
        "\n",
        "    merged_df = pd.merge(left=geo_df, right=day_df, how='left', left_on='iso_code', right_on='iso_code')\n",
        "\n",
        "    title = f'Total COVID-19 Cases as of {this_day}'\n",
        "    col = 'total_cases'\n",
        "    vmin, vmax = merged_df[col].min(), merged_df[col].max()\n",
        "    cmap = mycmap\n",
        "    divnorm = TwoSlopeNorm(vcenter=0.08*20365726)\n",
        "\n",
        "    # Create figure and axes for Matplotlib\n",
        "    fig, ax = plt.subplots(1, figsize=(20, 8))\n",
        "\n",
        "    # Remove the axis\n",
        "    ax.axis('off')\n",
        "    merged_df.plot(column=col, ax=ax, edgecolor='1.0', linewidth=1, norm=divnorm, cmap=cmap)\n",
        "\n",
        "    # Add a title\n",
        "    ax.set_title(title, fontdict={'fontsize': '25', 'fontweight': '3'})\n",
        "\n",
        "    # Create colorbar as a legend\n",
        "    sm = plt.cm.ScalarMappable(norm=plt.Normalize(vmin=vmin, vmax=vmax), cmap=cmap)\n",
        "\n",
        "    # Empty array for the data range\n",
        "    sm._A = []\n",
        "\n",
        "    # Add the colorbar to the figure\n",
        "    cbaxes = fig.add_axes([0.15, 0.25, 0.01, 0.4])\n",
        "    cbar = fig.colorbar(sm, cax=cbaxes)\n",
        "    plt.savefig(f'world_map_{this_day}.png', bbox_inches='tight')\n",
        "    plt.close(fig)\n",
        "    ct += 1\n",
        "\n",
        "print(f'Process complete. {ct} heatmap(s) were extracted, ready to be converted into a .gif file.')"
      ],
      "metadata": {
        "colab": {
          "base_uri": "https://localhost:8080/"
        },
        "id": "eNNhhQmibDRn",
        "outputId": "0ce6ee39-4e68-477e-f901-56b9594da016"
      },
      "execution_count": null,
      "outputs": [
        {
          "output_type": "stream",
          "name": "stdout",
          "text": [
            "Initializing the construction of heatmaps for every day.\n",
            "Process complete. 59 heatmap(s) were extracted, ready to be converted into a .gif file.\n"
          ]
        }
      ]
    },
    {
      "cell_type": "code",
      "source": [
        ""
      ],
      "metadata": {
        "id": "Y8NOP8VUbDUV"
      },
      "execution_count": null,
      "outputs": []
    },
    {
      "cell_type": "code",
      "source": [
        ""
      ],
      "metadata": {
        "id": "g99Cuc_DbDXK"
      },
      "execution_count": null,
      "outputs": []
    },
    {
      "cell_type": "code",
      "source": [
        ""
      ],
      "metadata": {
        "id": "gEnccUPPbDaN"
      },
      "execution_count": null,
      "outputs": []
    },
    {
      "cell_type": "code",
      "source": [
        ""
      ],
      "metadata": {
        "id": "T49zg8UTbDdZ"
      },
      "execution_count": null,
      "outputs": []
    }
  ]
}